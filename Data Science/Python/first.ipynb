import pandas as pd
import numpy as np
df = pd.read_excel("Kung-fu.xlsx")
df["age"]
